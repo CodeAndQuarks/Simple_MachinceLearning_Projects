{
 "cells": [
  {
   "cell_type": "code",
   "execution_count": 3,
   "metadata": {},
   "outputs": [
    {
     "data": {
      "text/plain": [
       "\"Machine Learning: Iris Classification....The 'Hello World!' of Machine Learning\""
      ]
     },
     "execution_count": 3,
     "metadata": {},
     "output_type": "execute_result"
    }
   ],
   "source": [
    "\"\"\"Machine Learning: Iris Classification....The 'Hello World!' of Machine Learning\"\"\""
   ]
  },
  {
   "cell_type": "code",
   "execution_count": 5,
   "metadata": {},
   "outputs": [],
   "source": [
    "\n",
    "import matplotlib.pyplot as plt\n",
    "from sklearn.linear_model import  LogisticRegression\n",
    "from sklearn.metrics import classification_report\n",
    "from sklearn.model_selection import train_test_split\n",
    "import seaborn as sb\n",
    "from numba import jit\n",
    "\n"
   ]
  },
  {
   "cell_type": "code",
   "execution_count": 30,
   "metadata": {},
   "outputs": [],
   "source": [
    "@jit\n",
    "def plot_dataset(data):\n",
    "    \"\"\"Load a chart of the data\"\"\"\n",
    "    \n",
    "    #plot relationship between features and targets\n",
    "    plt.xlabel(\"Features\")\n",
    "    plt.ylabel(\"Species\")\n",
    "\n",
    "    plt_Features=data.loc[:, 'petal_length']\n",
    "    plt_species=data.loc[:,'species']\n",
    "    plt.scatter(plt_Features,plt_species,color='g', label='petal_length')\n",
    "\n",
    "    plt_Features=data.loc[:, 'petal_width']\n",
    "    plt_species=data.loc[:, 'species']\n",
    "    plt.scatter(plt_Features,plt_species,color='r', label='petal_width')\n",
    "    \n",
    "    plt_Features=data.loc[:,'sepal_length']\n",
    "    plt_species=data.loc[:,'species']\n",
    "    plt.scatter(plt_Features,plt_species,color='b', label='sepal_length')\n",
    "\n",
    "    plt_Features=data.loc[:, 'sepal_width']\n",
    "    plt_species=data.loc[:, 'species']\n",
    "    plt.scatter(plt_Features,plt_species,color='m', label='sepal_width')\n",
    "\n",
    "    plt.legend(loc=4, prop={'size': 6})\n",
    "    plt.show()\n"
   ]
  },
  {
   "cell_type": "code",
   "execution_count": 31,
   "metadata": {},
   "outputs": [
    {
     "data": {
      "image/png": "[encoded data removed]",
      "text/plain": [
       "<Figure size 432x288 with 1 Axes>"
      ]
     },
     "metadata": {
      "needs_background": "light"
     },
     "output_type": "display_data"
    }
   ],
   "source": [
    "\"\"\"Load the Iris dataset and split into Features and Targets,\n",
    "You could load this from seaborn or sklearn but I wanted to show\n",
    "the final result was generated independently from where the intial dataset \n",
    "was spawned.\"\"\"\n",
    "data=sb.load_dataset(\"iris\")\n",
    "#display data set in a simple plot\n",
    "plot_dataset(data)\n",
    "#seperate feature values and target values\n",
    "Feature_Values=data.iloc[:,:-1]\n",
    "Target_Values=data.iloc[:,-1]"
   ]
  },
  {
   "cell_type": "code",
   "execution_count": 32,
   "metadata": {},
   "outputs": [],
   "source": [
    "#split data\n",
    "x_train, x_test, y_train, y_test= train_test_split(Feature_Values, Target_Values, test_size=0.4, random_state=24)"
   ]
  },
  {
   "cell_type": "code",
   "execution_count": 33,
   "metadata": {},
   "outputs": [
    {
     "data": {
      "text/plain": [
       "LogisticRegression(C=1.0, class_weight=None, dual=False, fit_intercept=True,\n",
       "          intercept_scaling=1, max_iter=1000, multi_class='auto',\n",
       "          n_jobs=None, penalty='l2', random_state=None, solver='lbfgs',\n",
       "          tol=0.0001, verbose=0, warm_start=False)"
      ]
     },
     "execution_count": 33,
     "metadata": {},
     "output_type": "execute_result"
    }
   ],
   "source": [
    "\"\"\"Train a Logistic Regression Model to predict the next possible species identifiable from the data set\"\"\"\n",
    "#Train the model\n",
    "train=LogisticRegression(max_iter=1000, multi_class='auto', solver='lbfgs')\n",
    "train.fit(x_train,y_train)"
   ]
  },
  {
   "cell_type": "code",
   "execution_count": 34,
   "metadata": {},
   "outputs": [],
   "source": [
    "#Test the model\n",
    "\"\"\"This will make a prediction as to the value of y_test, based on x_tests values, using the model we trained\"\"\"\n",
    "y_predict=train.predict(x_test)"
   ]
  },
  {
   "cell_type": "code",
   "execution_count": 35,
   "metadata": {},
   "outputs": [
    {
     "name": "stdout",
     "output_type": "stream",
     "text": [
      "107     virginica\n",
      "114     virginica\n",
      "57     versicolor\n",
      "59     versicolor\n",
      "105     virginica\n",
      "11         setosa\n",
      "48         setosa\n",
      "72     versicolor\n",
      "29         setosa\n",
      "148     virginica\n",
      "30         setosa\n",
      "19         setosa\n",
      "26         setosa\n",
      "111     virginica\n",
      "144     virginica\n",
      "14         setosa\n",
      "103     virginica\n",
      "31         setosa\n",
      "104     virginica\n",
      "120     virginica\n",
      "112     virginica\n",
      "140     virginica\n",
      "135     virginica\n",
      "51     versicolor\n",
      "136     virginica\n",
      "1          setosa\n",
      "108     virginica\n",
      "137     virginica\n",
      "49         setosa\n",
      "109     virginica\n",
      "78     versicolor\n",
      "17         setosa\n",
      "77     versicolor\n",
      "92     versicolor\n",
      "133     virginica\n",
      "113     virginica\n",
      "9          setosa\n",
      "84     versicolor\n",
      "53     versicolor\n",
      "58     versicolor\n",
      "95     versicolor\n",
      "22         setosa\n",
      "15         setosa\n",
      "20         setosa\n",
      "69     versicolor\n",
      "141     virginica\n",
      "88     versicolor\n",
      "37         setosa\n",
      "40         setosa\n",
      "25         setosa\n",
      "2          setosa\n",
      "13         setosa\n",
      "16         setosa\n",
      "90     versicolor\n",
      "134     virginica\n",
      "76     versicolor\n",
      "125     virginica\n",
      "79     versicolor\n",
      "102     virginica\n",
      "94     versicolor\n",
      "Name: species, dtype: object\n"
     ]
    }
   ],
   "source": [
    "\"\"\"Display y_test results\"\"\"\n",
    "\n",
    "print(y_test)"
   ]
  },
  {
   "cell_type": "code",
   "execution_count": 36,
   "metadata": {},
   "outputs": [
    {
     "name": "stdout",
     "output_type": "stream",
     "text": [
      "['virginica' 'virginica' 'versicolor' 'versicolor' 'virginica' 'setosa'\n",
      " 'setosa' 'versicolor' 'setosa' 'virginica' 'setosa' 'setosa' 'setosa'\n",
      " 'virginica' 'virginica' 'setosa' 'virginica' 'setosa' 'virginica'\n",
      " 'virginica' 'virginica' 'virginica' 'virginica' 'versicolor' 'virginica'\n",
      " 'setosa' 'virginica' 'virginica' 'setosa' 'virginica' 'versicolor'\n",
      " 'setosa' 'virginica' 'versicolor' 'virginica' 'virginica' 'setosa'\n",
      " 'versicolor' 'versicolor' 'versicolor' 'versicolor' 'setosa' 'setosa'\n",
      " 'setosa' 'versicolor' 'virginica' 'versicolor' 'setosa' 'setosa' 'setosa'\n",
      " 'setosa' 'setosa' 'setosa' 'versicolor' 'virginica' 'versicolor'\n",
      " 'virginica' 'versicolor' 'virginica' 'versicolor']\n"
     ]
    }
   ],
   "source": [
    "\"\"\"Display Prediction Results\"\"\"\n",
    "print(y_predict)"
   ]
  },
  {
   "cell_type": "code",
   "execution_count": 37,
   "metadata": {},
   "outputs": [
    {
     "name": "stdout",
     "output_type": "stream",
     "text": [
      "              precision    recall  f1-score   support\n",
      "\n",
      "      setosa       1.00      1.00      1.00        21\n",
      "  versicolor       1.00      0.94      0.97        17\n",
      "   virginica       0.96      1.00      0.98        22\n",
      "\n",
      "   micro avg       0.98      0.98      0.98        60\n",
      "   macro avg       0.99      0.98      0.98        60\n",
      "weighted avg       0.98      0.98      0.98        60\n",
      "\n"
     ]
    }
   ],
   "source": [
    "\"\"\"Without looking too hard at these data sets we coild say the model was fairly accurate with its predictions,\n",
    "but how can we be sure? We could run a accuracy score on the model, but its less time consuming to just call\n",
    "the classification report on these two sets. This will give us our precison for our model\"\"\"\n",
    "#precision\n",
    "print(classification_report(y_test, y_predict))"
   ]
  },
  {
   "cell_type": "code",
   "execution_count": 38,
   "metadata": {},
   "outputs": [
    {
     "data": {
      "text/plain": [
       "'Precision is between 0 and 1, so as shown above, while the prediction was not perfect, our trained model\\nwas still fairly accurate in predicting the next possible species of iris based on our test data.'"
      ]
     },
     "execution_count": 38,
     "metadata": {},
     "output_type": "execute_result"
    }
   ],
   "source": [
    "\"\"\"Precision is between 0 and 1, so as shown above, while the prediction was not perfect, our trained model\n",
    "was still fairly accurate in predicting the next possible species of iris based on our test data.\"\"\""
   ]
  },
  {
   "cell_type": "code",
   "execution_count": null,
   "metadata": {},
   "outputs": [],
   "source": []
  },
  {
   "cell_type": "code",
   "execution_count": null,
   "metadata": {},
   "outputs": [],
   "source": []
  }
 ],
 "metadata": {
  "kernelspec": {
   "display_name": "Python 3",
   "language": "python",
   "name": "python3"
  },
  "language_info": {
   "codemirror_mode": {
    "name": "ipython",
    "version": 3
   },
   "file_extension": ".py",
   "mimetype": "text/x-python",
   "name": "python",
   "nbconvert_exporter": "python",
   "pygments_lexer": "ipython3",
   "version": "3.7.1"
  }
 },
 "nbformat": 4,
 "nbformat_minor": 2
}
